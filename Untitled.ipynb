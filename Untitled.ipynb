{
 "cells": [
  {
   "cell_type": "code",
   "execution_count": 39,
   "id": "d21736f3-3f15-418a-a7b7-74b8923f1d63",
   "metadata": {},
   "outputs": [],
   "source": [
    "import numpy as np\n",
    "import matplotlib.pyplot as plt\n",
    "from scipy import constants\n",
    "import math\n",
    "from pint import UnitRegistry\n",
    "ureg = UnitRegistry()"
   ]
  },
  {
   "cell_type": "code",
   "execution_count": 40,
   "id": "0010b47c-ca45-44c2-a2eb-25a5cc618c5c",
   "metadata": {},
   "outputs": [],
   "source": [
    "particle_diameter = 1e-6*ureg.meter # m\n",
    "particle_density = 997 # kg/m^3\n",
    "particle_mass = 4/3*constants.pi*(particle_diameter/2)**3*particle_density\n",
    "particle_cross_section_area = constants.pi*(particle_diameter/2)**2\n",
    "fluid_density = 1.255 # kg/m^3\n",
    "\n",
    "dynamic_viscosity_air_25C = 1.849e-5\n",
    "dynamic_viscosity_water = 10*ureg['millipascal*seconds']"
   ]
  },
  {
   "cell_type": "code",
   "execution_count": 41,
   "id": "d3056f4a-3e33-41cf-9b1a-a03dc058de51",
   "metadata": {},
   "outputs": [],
   "source": [
    "def C_d(Re):\n",
    "    # for now just stokes law\n",
    "    return 24/Re\n",
    "\n",
    "def euler(xy_n, delta_t, funcs):\n",
    "    # 2D euler\n",
    "    x_n = xy_n[0] + delta_t*funcs[0]\n",
    "    y_n = xy_n[1] + delta_t*funcs[1]\n",
    "    return [x_n, y_n]\n",
    "\n",
    "#euler1D = lambda y_n, delta_t, func: y_n + delta_t*func\n",
    "Re = lambda v: fluid_density*v*particle_diameter/dynamic_viscosity_air_25C\n",
    "\n",
    "F_g_1 = 1/6*constants.pi*particle_density*particle_diameter**3*constants.g\n",
    "F_g = particle_mass*constants.g\n",
    "F_d_8 = lambda v: (constants.pi*C_d(Re(v))*particle_density*particle_diameter**2*v**2)/8\n",
    "F_d_3 = lambda v: (3*constants.pi*dynamic_viscosity_air_25C*particle_diameter*v)/22.7\n",
    "F_d_wiki = lambda v: 1/2*particle_density*v**2*C_d(Re(v))*particle_cross_section_area\n",
    "F_d_stoke = lambda v: -6*constants.pi*dynamic_viscosity_water*(particle_diameter/2)*v\n",
    "F_b = 1/6*constants.pi*particle_diameter**3*fluid_density*constants.g"
   ]
  },
  {
   "cell_type": "code",
   "execution_count": 42,
   "id": "eb65fbe4-051b-466f-aa99-0ce358d4765d",
   "metadata": {},
   "outputs": [
    {
     "data": {
      "text/plain": [
       "0.942477796076938"
      ]
     },
     "execution_count": 42,
     "metadata": {},
     "output_type": "execute_result"
    }
   ],
   "source": [
    "(6*constants.pi*10e-3*0.5e-6*10e-6)/1e-12"
   ]
  },
  {
   "cell_type": "code",
   "execution_count": 43,
   "id": "217a4f2b-d6d8-441e-b46c-9eec2baf7ad9",
   "metadata": {},
   "outputs": [],
   "source": [
    "dynamic_viscosity = 10*ureg['millipascal*seconds']\n",
    "r = 0.5*ureg.micrometer\n",
    "v = 10*ureg['micrometer/second']"
   ]
  },
  {
   "cell_type": "code",
   "execution_count": 44,
   "id": "35f33504-c62e-474a-b206-7758d2ccde44",
   "metadata": {},
   "outputs": [
    {
     "data": {
      "text/html": [
       "0.9424777960769379 piconewton"
      ],
      "text/latex": [
       "$0.9424777960769379\\ \\mathrm{piconewton}$"
      ],
      "text/plain": [
       "0.9424777960769379 <Unit('piconewton')>"
      ]
     },
     "execution_count": 44,
     "metadata": {},
     "output_type": "execute_result"
    }
   ],
   "source": [
    "(6*constants.pi*dynamic_viscosity*r*v).to(ureg.piconewton)"
   ]
  },
  {
   "cell_type": "code",
   "execution_count": 46,
   "id": "1e243691-a8a6-42b7-8c67-f8f369a922d1",
   "metadata": {},
   "outputs": [
    {
     "data": {
      "text/html": [
       "-0.9424777960769378 piconewton"
      ],
      "text/latex": [
       "$-0.9424777960769378\\ \\mathrm{piconewton}$"
      ],
      "text/plain": [
       "-0.9424777960769378 <Unit('piconewton')>"
      ]
     },
     "execution_count": 46,
     "metadata": {},
     "output_type": "execute_result"
    }
   ],
   "source": [
    "F_d_stoke(v).to(ureg.piconewton)"
   ]
  },
  {
   "cell_type": "code",
   "execution_count": null,
   "id": "0be52453-1ab7-4908-99da-81f7b3ec7173",
   "metadata": {},
   "outputs": [],
   "source": [
    "def euler_step(v, pos):\n",
    "    a = acceleration(v)\n",
    "    v_new = euler(v, delta_t, a)\n",
    "    pos_new = euler(pos, delta_t, v_new)\n",
    "    \n",
    "    return {\n",
    "        'a': a,\n",
    "        'v': v_new,\n",
    "        'pos': pos_new\n",
    "    }\n",
    "\n",
    "def F_drag():\n",
    "    if particle_diameter < 10e-6\n",
    "        \n",
    "    else\n",
    "    "
   ]
  }
 ],
 "metadata": {
  "kernelspec": {
   "display_name": "Python 3 (ipykernel)",
   "language": "python",
   "name": "python3"
  },
  "language_info": {
   "codemirror_mode": {
    "name": "ipython",
    "version": 3
   },
   "file_extension": ".py",
   "mimetype": "text/x-python",
   "name": "python",
   "nbconvert_exporter": "python",
   "pygments_lexer": "ipython3",
   "version": "3.9.7"
  }
 },
 "nbformat": 4,
 "nbformat_minor": 5
}
