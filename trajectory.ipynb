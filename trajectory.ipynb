{
 "cells": [
  {
   "cell_type": "code",
   "execution_count": 116,
   "id": "912cb339-ed94-4601-9319-afb506529cba",
   "metadata": {},
   "outputs": [],
   "source": [
    "import numpy as np\n",
    "import matplotlib.pyplot as plt\n",
    "from scipy import constants\n",
    "import math"
   ]
  },
  {
   "cell_type": "code",
   "execution_count": 117,
   "id": "2e63ea30-ac3e-4e1b-9fea-5596b0c6d4e0",
   "metadata": {},
   "outputs": [],
   "source": [
    "particle_diameter = 0.1e-6 # m\n",
    "particle_density = 997 # kg/m^3\n",
    "particle_cross_section_area = math.pi*(particle_diameter/2)**2\n",
    "particle_volume =4/3*math.pi*(particle_diameter/2)**3\n",
    "particle_mass = particle_volume*particle_density\n",
    "fluid_density = 1.255 # kg/m^3\n",
    "\n",
    "dynamic_viscosity_air_25C = 1.849e-5\n",
    "mean_free_path_air_25C = 6.826e-8\n",
    "\n",
    "reynolds_max = None\n",
    "reynolds_min = None"
   ]
  },
  {
   "cell_type": "code",
   "execution_count": 118,
   "id": "ec8e3127-becc-4da0-95d1-5929a3ddf0f7",
   "metadata": {},
   "outputs": [],
   "source": [
    "Re = lambda v: fluid_density*v*particle_diameter/dynamic_viscosity_air_25C  #not entirely accurate\n",
    "\n",
    "# Slip correction factor\n",
    "C_c = 1 + 2*mean_free_path_air_25C/particle_diameter*(1.257+0.4*math.e**(-1.1*particle_diameter/(2*mean_free_path_air_25C)))\n",
    "\n",
    "\n",
    "def C_d(Re):\n",
    "    global reynolds_max \n",
    "    global reynolds_min\n",
    "    if reynolds_max is None or Re > reynolds_max:\n",
    "        reynolds_max = Re\n",
    "    if reynolds_min is None or Re < reynolds_min:\n",
    "        reynolds_min = Re\n",
    "    if Re < 0.1:\n",
    "        return 24/Re\n",
    "    elif Re > 0.1 and Re < 0.2:\n",
    "        return 24/Re*(1+3/16*Re+9/160*Re**2*np.log(2*Re))\n",
    "    elif Re > 0.2 and Re < 500:\n",
    "        return 24/Re*(1+0.15*Re**0.686)\n",
    "    elif Re > 500 and Re < 2e5:\n",
    "        return 0.44\n",
    "    reynolds_to_large = True\n",
    "    raise Exception('Reynolds number to large')\n",
    "        \n",
    "def F_drag(v):\n",
    "    # also add drag force = 0 if velocity is 0\n",
    "    if particle_diameter < 10e-6:\n",
    "        return 3*math.pi*dynamic_viscosity_air_25C*v*particle_diameter/C_c\n",
    "    else:\n",
    "        return math.pi/8*C_d(Re(v))*fluid_density*particle_diameter**2*v**2"
   ]
  },
  {
   "cell_type": "code",
   "execution_count": 119,
   "id": "89e1460a-1145-4d82-8ec6-e0926c87aa75",
   "metadata": {},
   "outputs": [],
   "source": [
    "def euler(xy_n, delta_t, funcs):\n",
    "    # 2D euler\n",
    "    x_n = xy_n[0] + delta_t*funcs[0]\n",
    "    y_n = xy_n[1] + delta_t*funcs[1]\n",
    "    return [x_n, y_n]\n",
    "\n",
    "#euler1D = lambda y_n, delta_t, func: y_n + delta_t*func\n",
    "\n",
    "F_g_1 = 1/6*math.pi*particle_density*particle_diameter**3*constants.g\n",
    "F_g = particle_mass*constants.g\n",
    "F_d_8 = lambda v: (math.pi*C_d(Re(v))*particle_density*particle_diameter**2*v**2)/8\n",
    "F_d_3 = lambda v: (3*math.pi*dynamic_viscosity_air_25C*particle_diameter*v)/22.7\n",
    "F_d_wiki = lambda v: 1/2*particle_density*v**2*C_d(Re(v))*particle_cross_section_area\n",
    "F_d_stoke = lambda v: 6*math.pi*dynamic_viscosity_air_25C*(particle_diameter/2)*v\n",
    "F_b_paper = 1/6*math.pi*particle_diameter**3*fluid_density*constants.g\n",
    "F_b = fluid_density*particle_volume*constants.g"
   ]
  },
  {
   "cell_type": "code",
   "execution_count": 120,
   "id": "30fc4d0a-3135-463a-86ed-8b4afed7a0d1",
   "metadata": {},
   "outputs": [],
   "source": [
    "def acceleration(v):\n",
    "    speed = (v[0]**2+v[1]**2)**(1/2)\n",
    "    velocity_unitvector_x = v[0]/speed\n",
    "    velocity_unitvector_y = v[1]/speed\n",
    "    #print((velocity_unitvector_x**2+velocity_unitvector_y**2)**(1/2))\n",
    "    drag_force = F_drag(speed)\n",
    "    drag_force_x = -1*velocity_unitvector_x*drag_force\n",
    "    drag_force_y = -1*velocity_unitvector_y*drag_force\n",
    "    #print(drag_force_x, drag_force_y)\n",
    "    a_x = drag_force_x/particle_mass\n",
    "    a_y = (-F_g + drag_force_y + F_b)/particle_mass\n",
    "    #print(a_x, a_y)\n",
    "    # compute the stoke based on speed (non vector) then drag force direction is inverse of velocity vector direction\n",
    "    #a_x = -F_d_stoke(v[0])/particle_mass\n",
    "    #a_x = 0\n",
    "    #a_y = (-F_g+F_b+ F_d_wiki(v[1]))/particle_mass\n",
    "    return [a_x, a_y]"
   ]
  },
  {
   "cell_type": "code",
   "execution_count": 121,
   "id": "7ec0c479-b8e0-4ea6-9626-239df9eacb3b",
   "metadata": {},
   "outputs": [],
   "source": [
    "t_total = 1\n",
    "delta_t = 0.000001 #0.000001\n",
    "steps = np.arange(0, t_total, delta_t)"
   ]
  },
  {
   "cell_type": "code",
   "execution_count": 122,
   "id": "f9af51c4-bbe3-40a1-b451-664418cf02c3",
   "metadata": {},
   "outputs": [],
   "source": [
    "v_init = [1, 1]\n",
    "pos_init = [0, 10]\n",
    "#a_init = [constants.g, 0]\n",
    "\n",
    "n_steps = math.ceil(t_total/delta_t)\n",
    "v = np.zeros(shape=(n_steps + 1, 2))\n",
    "pos = np.zeros(shape=(n_steps + 1, 2))\n",
    "\n",
    "v[0] = v_init\n",
    "pos[0] = pos_init"
   ]
  },
  {
   "cell_type": "code",
   "execution_count": 123,
   "id": "53f77638-17e9-472d-ad23-972b71f58e24",
   "metadata": {},
   "outputs": [
    {
     "name": "stdout",
     "output_type": "stream",
     "text": [
      "finished\n"
     ]
    }
   ],
   "source": [
    "def euler_step(v, pos):\n",
    "    pos_new = euler(pos, delta_t, v)\n",
    "    a_new = acceleration(v)\n",
    "    v_new = euler(v, delta_t, a_new)\n",
    "    \n",
    "    return {\n",
    "        'a': a_new,\n",
    "        'v': v_new,\n",
    "        'pos': pos_new\n",
    "    }\n",
    "\n",
    "for id, step in enumerate(steps):\n",
    "    # compute new values\n",
    "    #print(v[id])\n",
    "    new_values = euler_step(v[id], pos[id])\n",
    "    \n",
    "    # add new values\n",
    "    v[id+1] = new_values['v']\n",
    "    pos[id+1] = new_values['pos']\n",
    "    \n",
    "print('finished')\n",
    "\n",
    "if (reynolds_max and reynolds_min):\n",
    "    print('reynolds_max', \"{:e}\".format(reynolds_max), 'reynolds_min', \"{:e}\".format(reynolds_min))"
   ]
  },
  {
   "cell_type": "code",
   "execution_count": 124,
   "id": "e15b8666-83c4-4279-a8a3-86ff9127308f",
   "metadata": {},
   "outputs": [
    {
     "data": {
      "text/plain": [
       "[<matplotlib.lines.Line2D at 0x7fd87cb04340>]"
      ]
     },
     "execution_count": 124,
     "metadata": {},
     "output_type": "execute_result"
    },
    {
     "data": {
      "image/png": "[encoded data removed]",
      "text/plain": [
       "<Figure size 432x288 with 1 Axes>"
      ]
     },
     "metadata": {
      "needs_background": "light"
     },
     "output_type": "display_data"
    }
   ],
   "source": [
    "#position\n",
    "fig, ax = plt.subplots()\n",
    "\n",
    "# extract axes from position list\n",
    "pos_x = list(map(lambda xy: xy[0], pos))\n",
    "pos_y = list(map(lambda xy: xy[1], pos))\n",
    "\n",
    "ax.plot(pos_x, pos_y)"
   ]
  },
  {
   "cell_type": "code",
   "execution_count": 125,
   "id": "f9ad4a28-c07d-450a-ace1-96c1f2b90398",
   "metadata": {},
   "outputs": [
    {
     "data": {
      "text/plain": [
       "[<matplotlib.lines.Line2D at 0x7fd879ee19d0>]"
      ]
     },
     "execution_count": 125,
     "metadata": {},
     "output_type": "execute_result"
    },
    {
     "data": {
      "image/png": "[encoded data removed]",
      "text/plain": [
       "<Figure size 432x288 with 1 Axes>"
      ]
     },
     "metadata": {
      "needs_background": "light"
     },
     "output_type": "display_data"
    }
   ],
   "source": [
    "#velocity\n",
    "fig, ax = plt.subplots()\n",
    "\n",
    "# extract axes from position list\n",
    "v_x = list(map(lambda xy: xy[0], v))\n",
    "v_y = list(map(lambda xy: xy[1], v))\n",
    "\n",
    "ax.plot(v_x, v_y)"
   ]
  },
  {
   "cell_type": "code",
   "execution_count": null,
   "id": "fea85b5f-61ab-4cce-b3a4-14f34cb3a33b",
   "metadata": {},
   "outputs": [],
   "source": []
  },
  {
   "cell_type": "code",
   "execution_count": null,
   "id": "0f7b84f6-78c4-4e8e-bdad-ff764c880bab",
   "metadata": {},
   "outputs": [],
   "source": []
  }
 ],
 "metadata": {
  "kernelspec": {
   "display_name": "Python 3 (ipykernel)",
   "language": "python",
   "name": "python3"
  },
  "language_info": {
   "codemirror_mode": {
    "name": "ipython",
    "version": 3
   },
   "file_extension": ".py",
   "mimetype": "text/x-python",
   "name": "python",
   "nbconvert_exporter": "python",
   "pygments_lexer": "ipython3",
   "version": "3.9.7"
  },
  "toc-autonumbering": false,
  "toc-showmarkdowntxt": false
 },
 "nbformat": 4,
 "nbformat_minor": 5
}
